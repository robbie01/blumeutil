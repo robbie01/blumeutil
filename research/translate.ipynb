{
 "cells": [
  {
   "cell_type": "code",
   "execution_count": 1,
   "id": "66e294cb-878b-4ef9-98d8-ea871c4df900",
   "metadata": {},
   "outputs": [
    {
     "data": {
      "application/vnd.jupyter.widget-view+json": {
       "model_id": "8616a29695f0420cb6e56671d9b313a7",
       "version_major": 2,
       "version_minor": 0
      },
      "text/plain": [
       "Loading checkpoint shards:   0%|          | 0/3 [00:00<?, ?it/s]"
      ]
     },
     "metadata": {},
     "output_type": "display_data"
    }
   ],
   "source": [
    "from transformers import AutoModelForCausalLM, AutoTokenizer, BitsAndBytesConfig\n",
    "import torch\n",
    "\n",
    "nf4_config = BitsAndBytesConfig(\n",
    "   load_in_4bit=True,\n",
    "   bnb_4bit_quant_type=\"nf4\",\n",
    "   bnb_4bit_use_double_quant=True,\n",
    "   bnb_4bit_compute_dtype=torch.bfloat16\n",
    ")\n",
    "\n",
    "model_name = \"lmg-anon/vntl-7b-v0.3.1-hf\"\n",
    "model = AutoModelForCausalLM.from_pretrained(model_name, device_map=\"auto\", quantization_config=nf4_config)\n",
    "tokenizer = AutoTokenizer.from_pretrained(model_name)"
   ]
  },
  {
   "cell_type": "code",
   "execution_count": 2,
   "id": "af5c725a-f92f-47df-8f9a-6854348cb987",
   "metadata": {},
   "outputs": [],
   "source": [
    "import sqlite3\n",
    "db = sqlite3.connect(\"../blume.db\")"
   ]
  },
  {
   "cell_type": "code",
   "execution_count": 3,
   "id": "5dd3d067-40f8-481b-b679-da4a1b908b54",
   "metadata": {},
   "outputs": [
    {
     "name": "stdout",
     "output_type": "stream",
     "text": [
      "「...」\n",
      "I prayed to God this morning as well.\n",
      "Yes. I didn't know what would happen next.\n",
      "Or perhaps she'd closed her eyes and ears to everything she knew...\n",
      "「...Fwaaah.」\n",
      "(Aaaah! Not in front of God!)\n",
      "She quickly corrected her posture.\n",
      "Perhaps it was because she'd stayed up late the night before, but she was sleepy this morning.\n",
      "(I needed to focus on my prayer.)\n",
      "「...Mary? Where are you, Mary?」\n",
      "(Oh, that voice...?)\n",
      "「Ah, Mary. I see you're here.」\n",
      "「Yes, Dani.」\n",
      "As I'd expected. Dani had been looking for me.\n",
      "She was a very beautiful woman. She was the second most revered person in this church, and that's why she knew so much about the church's teachings.\n",
      "But she didn't seem to be very strict about the rules. Of course, she wasn't doing anything truly wrong.\n",
      "She'd let me share some of the tasty sweets from the village with her, and she'd let me take a bath for longer than I was supposed to...\n",
      "She was the kind of person who worried about our well-being and made sure we had time to relax.\n",
      "My role model. My idol.\n",
      "(I've only known Dani for a little over a year, but I feel like we've been friends for much longer.)\n",
      "「What's wrong, Mary? What's got you so flustered?」\n",
      "「N-Nothing... It's nothing.」\n",
      "(Aaah, I was surprised. I was just standing here, so she must've thought I was strange.)\n",
      "(Maybe she thought I was a crazy person...)\n",
      "「...Khsss.」\n",
      "「Um, Dani? Do you have something for me?」\n",
      "「Yes. I want you to deliver this letter to the mayor's house.」\n",
      "「Okay, I understand. I'll go right now.」\n",
      "「Yes, please do.」\n",
      "(The mayor's house? It's been about a half-moon since I've been there...)\n",
      "The mayor's house was on the opposite side of the church's square.\n",
      "It wasn't far at all, and I could even walk there in five minutes.\n",
      "It was a small village far away from the capital, so it wasn't very big.\n",
      "I could probably do a complete lap around it in thirty minutes.\n",
      "But I liked this village.\n",
      "After all, it was my birthplace.\n",
      "(Huh? Is that...?)\n",
      "I saw a familiar figure in the distance.\n",
      "「Victor!」\n",
      "「Ah... Mary...」\n",
      "「Huh?! Oh, just a second...」\n",
      "Victor recognized me and tried to leave.\n",
      "「Wait! Victor!」\n",
      "I finally caught up to him when he turned down an alleyway.\n"
     ]
    }
   ],
   "source": [
    "import re\n",
    "\n",
    "names = {\n",
    "    'Mary': 'メアリ',\n",
    "    'Narrator': None,\n",
    "    '???': '？？？',\n",
    "    'Daniela': 'ダニエラ',\n",
    "    'Victor': 'ヴィクトル',\n",
    "    'Auguste': 'オーギュスト',\n",
    "    'Ilia': 'イリア',\n",
    "    'Richard': 'リチャード',\n",
    "    'Jacob': 'ヤコブ'\n",
    "}\n",
    "\n",
    "prompt_start = \"\"\"<<START>>\n",
    "Name: Mary (メアリ) | Gender: Female\n",
    "Name: Daniela Brancusi (ダニエラ・ブランクーシ) | Gender: Female\n",
    "Name: Victor Friedrich (ヴィクトル・フリードリヒ) | Gender: Male\n",
    "Name: Auguste Muller (オーギュスト・ミュラー) | Gender: Male\n",
    "Name: Ilia Cantemir (イリア・カンテミール) | Gender: Female\n",
    "Name: Richard Cantemir (リチャード・カンテミール) | Gender: Male | Aliases: Onii-chan (お兄ちゃん)\n",
    "Name: Jacob Cantemir (ヤコブ・カンテミール) | Gender: Male | Aliases: mayor (村長)\n",
    "\"\"\"\n",
    "\n",
    "exp = re.compile(\"(?:\\[(?:.+?)\\]: )?(.+)\", re.S)\n",
    "\n",
    "seen = []\n",
    "\n",
    "for address, speaker, line in db.cursor().execute(\"SELECT address, speaker, line FROM lines WHERE scriptid = 100\"):\n",
    "    line = line.replace(\"#Name[1]\", \"メアリ\")\n",
    "    jpspeaker = names[speaker]\n",
    "    \n",
    "    if jpspeaker is not None:\n",
    "        jpspeaker = \"[\" + jpspeaker + \"]: \"\n",
    "    else:\n",
    "        jpspeaker = \"\"\n",
    "    \n",
    "    nucleus = \"<<JAPANESE>>\\n\" + jpspeaker + line + \"\\n<<ENGLISH>> (fidelity = high)\\n\"\n",
    "    while True:\n",
    "        prompt = ''.join([prompt_start, *seen, nucleus])\n",
    "        inputs = tokenizer(prompt, return_tensors=\"pt\", return_length=True).to('cuda:0')\n",
    "        if inputs.length <= 3840:\n",
    "            del inputs['length']\n",
    "            break\n",
    "        seen.pop(0)\n",
    "    \n",
    "    outputs = model.generate(**inputs)\n",
    "    tl = exp.match(tokenizer.batch_decode(outputs, skip_special_tokens=True, max_tokens=256)[0][len(prompt):].strip())[1]\n",
    "    nucleus += tl + \"\\n\"\n",
    "    seen.append(nucleus)\n",
    "    print(tl)\n",
    "    #db.cursor().execute(\"INSERT OR REPLACE INTO translations VALUES('vntl-20240201', 100, ?, ?)\", (address, tl))\n",
    "    #db.commit()"
   ]
  },
  {
   "cell_type": "code",
   "execution_count": null,
   "id": "85d02328-745a-4ef4-8c24-466c0eae95fc",
   "metadata": {},
   "outputs": [],
   "source": []
  }
 ],
 "metadata": {
  "kernelspec": {
   "display_name": "Python 3 (ipykernel)",
   "language": "python",
   "name": "python3"
  },
  "language_info": {
   "codemirror_mode": {
    "name": "ipython",
    "version": 3
   },
   "file_extension": ".py",
   "mimetype": "text/x-python",
   "name": "python",
   "nbconvert_exporter": "python",
   "pygments_lexer": "ipython3",
   "version": "3.11.7"
  }
 },
 "nbformat": 4,
 "nbformat_minor": 5
}
